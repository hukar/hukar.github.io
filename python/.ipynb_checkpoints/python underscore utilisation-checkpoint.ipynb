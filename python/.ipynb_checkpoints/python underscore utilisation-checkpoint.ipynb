{
 "cells": [
  {
   "cell_type": "markdown",
   "metadata": {},
   "source": [
    "# Python underscore utilisation"
   ]
  },
  {
   "cell_type": "markdown",
   "metadata": {},
   "source": [
    "## private "
   ]
  },
  {
   "cell_type": "markdown",
   "metadata": {},
   "source": [
    "ajouter le `_` devant une méthode la rend privée pour les autres package"
   ]
  },
  {
   "cell_type": "code",
   "execution_count": 5,
   "metadata": {},
   "outputs": [],
   "source": [
    "from my_func import *"
   ]
  },
  {
   "cell_type": "code",
   "execution_count": 9,
   "metadata": {},
   "outputs": [
    {
     "name": "stdout",
     "output_type": "stream",
     "text": [
      "def dodo():\n",
      "    return 'dodo'\n",
      "\n",
      "def _secret():\n",
      "    return 'secret'\n",
      "\n",
      "def reveal():\n",
      "    return _secret()\n",
      "\n",
      "\n"
     ]
    }
   ],
   "source": [
    "with open(\"my_func.py\",\"r\") as f:\n",
    "    print(f.read())"
   ]
  },
  {
   "cell_type": "code",
   "execution_count": 2,
   "metadata": {},
   "outputs": [
    {
     "name": "stdout",
     "output_type": "stream",
     "text": [
      "dodo\n"
     ]
    }
   ],
   "source": [
    "# from my_func import *\n",
    "\n",
    "print(dodo())"
   ]
  },
  {
   "cell_type": "code",
   "execution_count": 4,
   "metadata": {},
   "outputs": [
    {
     "ename": "NameError",
     "evalue": "name '_secret' is not defined",
     "output_type": "error",
     "traceback": [
      "\u001b[1;31m---------------------------------------------------------------------------\u001b[0m",
      "\u001b[1;31mNameError\u001b[0m                                 Traceback (most recent call last)",
      "\u001b[1;32m<ipython-input-4-d5b8a7445777>\u001b[0m in \u001b[0;36m<module>\u001b[1;34m\u001b[0m\n\u001b[1;32m----> 1\u001b[1;33m \u001b[0mprint\u001b[0m\u001b[1;33m(\u001b[0m\u001b[0m_secret\u001b[0m\u001b[1;33m(\u001b[0m\u001b[1;33m)\u001b[0m\u001b[1;33m)\u001b[0m\u001b[1;33m\u001b[0m\u001b[1;33m\u001b[0m\u001b[0m\n\u001b[0m",
      "\u001b[1;31mNameError\u001b[0m: name '_secret' is not defined"
     ]
    }
   ],
   "source": [
    "print(_secret())"
   ]
  },
  {
   "cell_type": "code",
   "execution_count": 10,
   "metadata": {},
   "outputs": [
    {
     "name": "stdout",
     "output_type": "stream",
     "text": [
      "secret\n"
     ]
    }
   ],
   "source": [
    "print(reveal())"
   ]
  },
  {
   "cell_type": "markdown",
   "metadata": {},
   "source": [
    "## Mots Réservés"
   ]
  },
  {
   "cell_type": "code",
   "execution_count": 13,
   "metadata": {},
   "outputs": [
    {
     "name": "stdout",
     "output_type": "stream",
     "text": [
      "{'un': 1, 'deux': 2}\n"
     ]
    }
   ],
   "source": [
    "dict_ = dict([(\"un\",1),(\"deux\",2)])\n",
    "print(dict_)"
   ]
  },
  {
   "cell_type": "markdown",
   "metadata": {},
   "source": [
    "Le underscore après un nom évite de crée une erreur avec un mot réservé."
   ]
  },
  {
   "cell_type": "markdown",
   "metadata": {},
   "source": [
    "##  magic method `__method__`"
   ]
  },
  {
   "cell_type": "markdown",
   "metadata": {},
   "source": [
    "### `__del__` "
   ]
  },
  {
   "cell_type": "code",
   "execution_count": 19,
   "metadata": {},
   "outputs": [
    {
     "name": "stdout",
     "output_type": "stream",
     "text": [
      "coco c'est fini\n",
      "fini !\n"
     ]
    }
   ],
   "source": [
    "import time\n",
    "\n",
    "class Action:\n",
    "    \n",
    "    name = \"coco\"\n",
    "    \n",
    "    def __del__(self):\n",
    "        print(self.name,\"c'est fini\")\n",
    "        \n",
    "a = Action()\n",
    "\n",
    "del a\n",
    "\n",
    "time.sleep(3) # pour laisser le temps au garbage collector de passer\n",
    "\n",
    "print(\"fini !\")"
   ]
  },
  {
   "cell_type": "markdown",
   "metadata": {},
   "source": [
    "### `__str__` \n",
    "\n",
    "La fonction toSrTring, offre une représentation de l'objet"
   ]
  },
  {
   "cell_type": "code",
   "execution_count": 25,
   "metadata": {},
   "outputs": [
    {
     "ename": "SyntaxError",
     "evalue": "Missing parentheses in call to 'print'. Did you mean print(l, ll)? (<ipython-input-25-e3fbb701d101>, line 12)",
     "output_type": "error",
     "traceback": [
      "\u001b[1;36m  File \u001b[1;32m\"<ipython-input-25-e3fbb701d101>\"\u001b[1;36m, line \u001b[1;32m12\u001b[0m\n\u001b[1;33m    print l, ll\u001b[0m\n\u001b[1;37m          ^\u001b[0m\n\u001b[1;31mSyntaxError\u001b[0m\u001b[1;31m:\u001b[0m Missing parentheses in call to 'print'. Did you mean print(l, ll)?\n"
     ]
    }
   ],
   "source": [
    "class Licorne:\n",
    "    def __init__(self, name, color):\n",
    "        self.name = name\n",
    "        self.color = color\n",
    "    \n",
    "    def __str__(self):\n",
    "        return f\"\\tname: {self.name}\\t color: {self.color}\\n\"\n",
    "    \n",
    "l = Licorne(\"maaja\", \"green\")\n",
    "ll = Licorne(\"hült\", \"raimbow\")\n",
    "\n",
    "print l, ll "
   ]
  },
  {
   "cell_type": "markdown",
   "metadata": {},
   "source": [
    "### ``__repr__`` \n",
    "\n",
    "Donne la représention de l'objet lorsqu'il est contenu dans une collection et que print est appelé ou lorsqu'il est représenté dans un interpréteur."
   ]
  },
  {
   "cell_type": "code",
   "execution_count": 27,
   "metadata": {},
   "outputs": [
    {
     "name": "stdout",
     "output_type": "stream",
     "text": [
      "__(Dragon gold: tyranos)__\n",
      "[<tyranos, gold>, 123, 'go !!!']\n"
     ]
    }
   ],
   "source": [
    "class Dragon:\n",
    "    def __init__(self,name,color):\n",
    "        self.name = name\n",
    "        self.color = color\n",
    "    def __str__(self):\n",
    "        return f\"__(Dragon {self.color}: {self.name})__\"\n",
    "    def __repr__(self):\n",
    "        return f\"<{self.name}, {self.color}>\"\n",
    "\n",
    "d = Dragon(\"tyranos\", \"gold\")\n",
    "l = [d,123,\"go !!!\"]\n",
    "print(d)\n",
    "print(l)"
   ]
  },
  {
   "cell_type": "code",
   "execution_count": 32,
   "metadata": {},
   "outputs": [
    {
     "name": "stdout",
     "output_type": "stream",
     "text": [
      "str \t repr \t hey hello kitty!! \t ola coco !\n"
     ]
    }
   ],
   "source": [
    "class Data:\n",
    "    def __str__(self):\n",
    "        return 'str'\n",
    "    def __repr__(self):\n",
    "        return 'repr'\n",
    "    def __format__(self, format):\n",
    "        if format == 'my-custom-format':\n",
    "            return \"hey hello kitty!!\"\n",
    "        return \"ola coco !\"\n",
    "\n",
    "d = Data()\n",
    "\n",
    "print(f\"{d!s} \\t {d!r} \\t {d:my-custom-format} \\t {d}\")"
   ]
  }
 ],
 "metadata": {
  "kernelspec": {
   "display_name": "Python 3",
   "language": "python",
   "name": "python3"
  },
  "language_info": {
   "codemirror_mode": {
    "name": "ipython",
    "version": 3
   },
   "file_extension": ".py",
   "mimetype": "text/x-python",
   "name": "python",
   "nbconvert_exporter": "python",
   "pygments_lexer": "ipython3",
   "version": "3.7.1"
  }
 },
 "nbformat": 4,
 "nbformat_minor": 2
}
