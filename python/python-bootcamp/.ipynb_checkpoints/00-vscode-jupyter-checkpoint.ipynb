{
 "cells": [
  {
   "cell_type": "markdown",
   "metadata": {},
   "source": [
    "# 00 Jupyter et VSCode\n",
    "## 1. installer anaconda suite\n",
    "Il faut d'abord installer l'`Anaconda suite`  \n",
    "## 2. installer l'extension Python sur VSCode\n",
    "Pas de difficulté, on va dans extension\n",
    "## 3. Régler l'intrepréteur Python\n",
    "en faisant `shift` + `ctrl` + `p`, on ouvre la `Palette`  \n",
    "on tape `> Python: Select Interpreter`  \n",
    "On choisie Anaconda dans la liste  \n",
    "## 4. On crée un notebook\n",
    "Toujours dans la `Palette` :  \n",
    "`> Python: Create New Blank Jupyter Notebook`"
   ]
  },
  {
   "cell_type": "code",
   "execution_count": 1,
   "metadata": {},
   "outputs": [
    {
     "name": "stdout",
     "output_type": "stream",
     "text": [
      "hello jupyter\n"
     ]
    }
   ],
   "source": [
    "a = 'hello jupyter'\n",
    "print(a)"
   ]
  },
  {
   "cell_type": "code",
   "execution_count": 2,
   "metadata": {},
   "outputs": [
    {
     "data": {
      "text/plain": [
       "11"
      ]
     },
     "execution_count": 2,
     "metadata": {},
     "output_type": "execute_result"
    }
   ],
   "source": [
    "a = 4\n",
    "b = 7\n",
    "a + b"
   ]
  },
  {
   "cell_type": "markdown",
   "metadata": {},
   "source": [
    "## Problème avec `zsh`\n",
    "Lors du passage à `zsh` comme suggéré par le terminal Apple, Jupyter Notebook n'a plus fonctionné.\n",
    "Il faut vérifier dans le setting de VSCode que\n",
    "```json\n",
    "\"terminal.integrated.env.windows\": {\n",
    "\t\t\"PATH\": \"\"\n",
    "}\n",
    "``` "
   ]
  },
  {
   "cell_type": "code",
   "execution_count": null,
   "metadata": {},
   "outputs": [],
   "source": []
  }
 ],
 "metadata": {
  "file_extension": ".py",
  "kernelspec": {
   "display_name": "Python 3.7.4 64-bit",
   "language": "python",
   "name": "python37464biteaf33d69d2654e55870829d1ff72a39d"
  },
  "language_info": {
   "codemirror_mode": {
    "name": "ipython",
    "version": 3
   },
   "file_extension": ".py",
   "mimetype": "text/x-python",
   "name": "python",
   "nbconvert_exporter": "python",
   "pygments_lexer": "ipython3",
   "version": "3.7.4"
  },
  "mimetype": "text/x-python",
  "name": "python",
  "npconvert_exporter": "python",
  "pygments_lexer": "ipython3",
  "version": 3
 },
 "nbformat": 4,
 "nbformat_minor": 2
}
