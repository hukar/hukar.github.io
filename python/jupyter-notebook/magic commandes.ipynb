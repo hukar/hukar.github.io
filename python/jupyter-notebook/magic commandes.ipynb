{
 "cells": [
  {
   "cell_type": "code",
   "execution_count": 8,
   "metadata": {},
   "outputs": [
    {
     "name": "stdout",
     "output_type": "stream",
     "text": [
      "<div style=\"background-color:gree;color:red;padding:12px;\">hello colors</div>\n"
     ]
    }
   ],
   "source": [
    "print('<div style=\"background-color:gree;color:red;padding:12px;\">hello colors</div>')"
   ]
  },
  {
   "cell_type": "code",
   "execution_count": 12,
   "metadata": {},
   "outputs": [
    {
     "name": "stderr",
     "output_type": "stream",
     "text": [
      "Un sous-répertoire ou un fichier consetat existe déjà.\n"
     ]
    }
   ],
   "source": [
    "!mkdir consetat"
   ]
  },
  {
   "cell_type": "code",
   "execution_count": 23,
   "metadata": {},
   "outputs": [
    {
     "data": {
      "text/html": [
       "<div id=\"toto\" style=\"background-color:lightGreen;color:red;padding:12px;\">hello kitty</div>\n"
      ],
      "text/plain": [
       "<IPython.core.display.HTML object>"
      ]
     },
     "metadata": {},
     "output_type": "display_data"
    }
   ],
   "source": [
    "%%html\n",
    "<div id=\"toto\" style=\"background-color:lightGreen;color:red;padding:12px;\">hello kitty</div>"
   ]
  },
  {
   "cell_type": "code",
   "execution_count": 24,
   "metadata": {},
   "outputs": [
    {
     "data": {
      "application/javascript": [
       "const hello = function() {\n",
       "    console.log(\"hello\")\n",
       "    return \"hello\"\n",
       "}\n",
       "\n",
       "hello()\n",
       "\n",
       "const div = document.getElementById(\"toto\")\n",
       "div.style.backgroundColor = \"yellow\"\n"
      ],
      "text/plain": [
       "<IPython.core.display.Javascript object>"
      ]
     },
     "metadata": {},
     "output_type": "display_data"
    }
   ],
   "source": [
    "%%js\n",
    "const hello = function() {\n",
    "    console.log(\"hello\")\n",
    "    return \"hello\"\n",
    "}\n",
    "\n",
    "hello()\n",
    "\n",
    "const div = document.getElementById(\"toto\")\n",
    "div.style.backgroundColor = \"yellow\""
   ]
  }
 ],
 "metadata": {
  "kernelspec": {
   "display_name": "Python 3",
   "language": "python",
   "name": "python3"
  },
  "language_info": {
   "codemirror_mode": {
    "name": "ipython",
    "version": 3
   },
   "file_extension": ".py",
   "mimetype": "text/x-python",
   "name": "python",
   "nbconvert_exporter": "python",
   "pygments_lexer": "ipython3",
   "version": "3.7.1"
  }
 },
 "nbformat": 4,
 "nbformat_minor": 2
}
