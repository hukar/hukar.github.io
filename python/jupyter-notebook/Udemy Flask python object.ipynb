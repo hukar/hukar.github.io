{
 "cells": [
  {
   "cell_type": "markdown",
   "metadata": {},
   "source": [
    "# Udemy Flask Python Object "
   ]
  },
  {
   "cell_type": "markdown",
   "metadata": {},
   "source": [
    "## Différence entre un dictionnaire et une classe "
   ]
  },
  {
   "cell_type": "code",
   "execution_count": 22,
   "metadata": {},
   "outputs": [
    {
     "name": "stdout",
     "output_type": "stream",
     "text": [
      "<__main__.LotteryPlayer object at 0x000002424687BE80>\n"
     ]
    }
   ],
   "source": [
    "lottery_player_dict = {\n",
    "    'name': 'rolf',\n",
    "    'numbers': (5,6,3,45,1)\n",
    "}\n",
    "\n",
    "class LotteryPlayer:\n",
    "    def __init__(self, name=\"rolf\"):\n",
    "        self.name = name,\n",
    "        self.numbers = (5,6,3,45,1)\n",
    "        \n",
    "    def total(self):\n",
    "        return sum(self.numbers)\n",
    "        \n",
    "player = LotteryPlayer()\n",
    "print(player)"
   ]
  },
  {
   "cell_type": "markdown",
   "metadata": {},
   "source": [
    "`__init__` est le constructeur il prend `self` la référence vers l'objet en premier paramètre.  \n",
    "`name='rolf'` définie une valeur par défaut au paramètre `name`"
   ]
  },
  {
   "cell_type": "code",
   "execution_count": 5,
   "metadata": {},
   "outputs": [
    {
     "name": "stdout",
     "output_type": "stream",
     "text": [
      "Help on LotteryPlayer in module __main__ object:\n",
      "\n",
      "class LotteryPlayer(builtins.object)\n",
      " |  Methods defined here:\n",
      " |  \n",
      " |  __init__(self)\n",
      " |      Initialize self.  See help(type(self)) for accurate signature.\n",
      " |  \n",
      " |  ----------------------------------------------------------------------\n",
      " |  Data descriptors defined here:\n",
      " |  \n",
      " |  __dict__\n",
      " |      dictionary for instance variables (if defined)\n",
      " |  \n",
      " |  __weakref__\n",
      " |      list of weak references to the object (if defined)\n",
      "\n"
     ]
    }
   ],
   "source": [
    "help(player)"
   ]
  },
  {
   "cell_type": "code",
   "execution_count": 19,
   "metadata": {},
   "outputs": [
    {
     "name": "stdout",
     "output_type": "stream",
     "text": [
      "None {'name': ('rolf',), 'numbers': (5, 6, 3, 45, 1)}\n"
     ]
    }
   ],
   "source": [
    "print(player.__weakref__,player.__dict__)"
   ]
  },
  {
   "cell_type": "markdown",
   "metadata": {},
   "source": [
    "Un dictionnaire ne peut pas intervenir sur ses propres datas"
   ]
  },
  {
   "cell_type": "code",
   "execution_count": 13,
   "metadata": {},
   "outputs": [
    {
     "name": "stdout",
     "output_type": "stream",
     "text": [
      "('rolf',) rolf\n"
     ]
    }
   ],
   "source": [
    "player2 = lottery_player_dict\n",
    "# help(player2)\n",
    "\n",
    "\n",
    "print(player.name, player2[\"name\"])"
   ]
  },
  {
   "cell_type": "code",
   "execution_count": 20,
   "metadata": {},
   "outputs": [
    {
     "name": "stdout",
     "output_type": "stream",
     "text": [
      "60\n",
      "60\n"
     ]
    }
   ],
   "source": [
    "# pour le dictionnaire\n",
    "s = sum(player2[\"numbers\"])\n",
    "print(s)\n",
    "\n",
    "# pour un objet\n",
    "t = player.total()\n",
    "print(t)"
   ]
  },
  {
   "cell_type": "code",
   "execution_count": 23,
   "metadata": {},
   "outputs": [
    {
     "name": "stdout",
     "output_type": "stream",
     "text": [
      "('rolf',) ('tomy',)\n"
     ]
    }
   ],
   "source": [
    "p1 = LotteryPlayer() # va prendre la valeur par défaut\n",
    "p2 = LotteryPlayer('tomy')\n",
    "print(p1.name, p2.name)"
   ]
  },
  {
   "cell_type": "code",
   "execution_count": 29,
   "metadata": {},
   "outputs": [
    {
     "name": "stdout",
     "output_type": "stream",
     "text": [
      "{'name': 'mitchel', 'numbers': (5, 6, 3, 45, 1)}\n"
     ]
    }
   ],
   "source": [
    "# changer la valeur d'un attribut\n",
    "p2.name = 'mitchel'\n",
    "print(p2.__dict__)"
   ]
  },
  {
   "cell_type": "markdown",
   "metadata": {},
   "source": [
    "## Transformer un objet en dictionnaire `__dict__` "
   ]
  },
  {
   "cell_type": "code",
   "execution_count": 28,
   "metadata": {},
   "outputs": [
    {
     "name": "stdout",
     "output_type": "stream",
     "text": [
      "{'name': 'mitchel', 'numbers': (5, 6, 3, 45, 1)} <class 'dict'>\n"
     ]
    }
   ],
   "source": [
    "d2 = p2.__dict__\n",
    "print(d2, type(d2))"
   ]
  }
 ],
 "metadata": {
  "kernelspec": {
   "display_name": "Python 3",
   "language": "python",
   "name": "python3"
  },
  "language_info": {
   "codemirror_mode": {
    "name": "ipython",
    "version": 3
   },
   "file_extension": ".py",
   "mimetype": "text/x-python",
   "name": "python",
   "nbconvert_exporter": "python",
   "pygments_lexer": "ipython3",
   "version": "3.7.1"
  }
 },
 "nbformat": 4,
 "nbformat_minor": 2
}
