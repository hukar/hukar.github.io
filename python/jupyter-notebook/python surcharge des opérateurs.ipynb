{
 "cells": [
  {
   "cell_type": "markdown",
   "metadata": {},
   "source": [
    "# Surcharge des opérateurs "
   ]
  },
  {
   "cell_type": "markdown",
   "metadata": {},
   "source": [
    "## add | + operator"
   ]
  },
  {
   "cell_type": "code",
   "execution_count": 4,
   "metadata": {},
   "outputs": [
    {
     "name": "stdout",
     "output_type": "stream",
     "text": [
      "tomate plus concombre\n"
     ]
    }
   ],
   "source": [
    "class Legume:\n",
    "    def __init__(self,name):\n",
    "        self.name = name\n",
    "        \n",
    "    def __add__(self, other):\n",
    "        return f\"{self.name} plus {other.name}\"\n",
    "        \n",
    "tomate = Legume(\"tomate\")\n",
    "concombre = Legume(\"concombre\")\n",
    "\n",
    "print(tomate + concombre)"
   ]
  },
  {
   "cell_type": "markdown",
   "metadata": {},
   "source": [
    "## lshift | << operator "
   ]
  },
  {
   "cell_type": "code",
   "execution_count": 15,
   "metadata": {},
   "outputs": [
    {
     "name": "stdout",
     "output_type": "stream",
     "text": [
      "yul \t age:22\n"
     ]
    }
   ],
   "source": [
    "class Goblin:\n",
    "    def __init__(self, name, age):\n",
    "        self.name = name\n",
    "        self.age = age\n",
    "        \n",
    "    def __str__(self):\n",
    "        return f\"{self.name} \\t age:{self.age}\"\n",
    "    \n",
    "    def __lshift__(self, value):\n",
    "        self.age = self.age - value\n",
    "    \n",
    "g = Goblin(\"yul\",25)\n",
    "g << 3\n",
    "print(g)"
   ]
  },
  {
   "cell_type": "markdown",
   "metadata": {},
   "source": [
    "## Rendre un objet _callable_ comme une fonction "
   ]
  },
  {
   "cell_type": "code",
   "execution_count": 17,
   "metadata": {},
   "outputs": [
    {
     "name": "stdout",
     "output_type": "stream",
     "text": [
      "mecha mecha adore informatique\n",
      "mecha mecha adore cuisine\n"
     ]
    }
   ],
   "source": [
    "class Mecha:\n",
    "    def __call__(self, tech):\n",
    "        print(\"mecha mecha adore\", tech)\n",
    "\n",
    "m = Mecha()\n",
    "m(\"informatique\")\n",
    "m(\"cuisine\")"
   ]
  }
 ],
 "metadata": {
  "kernelspec": {
   "display_name": "Python 3",
   "language": "python",
   "name": "python3"
  },
  "language_info": {
   "codemirror_mode": {
    "name": "ipython",
    "version": 3
   },
   "file_extension": ".py",
   "mimetype": "text/x-python",
   "name": "python",
   "nbconvert_exporter": "python",
   "pygments_lexer": "ipython3",
   "version": "3.7.1"
  }
 },
 "nbformat": 4,
 "nbformat_minor": 2
}
